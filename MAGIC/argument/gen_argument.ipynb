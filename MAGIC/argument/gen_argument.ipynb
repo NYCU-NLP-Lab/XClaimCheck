{
 "cells": [
  {
   "cell_type": "code",
   "execution_count": 4,
   "metadata": {},
   "outputs": [],
   "source": [
    "from pathlib import Path\n",
    "import json"
   ]
  },
  {
   "cell_type": "code",
   "execution_count": 5,
   "metadata": {},
   "outputs": [],
   "source": [
    "with open('../topics.json', 'r') as file:\n",
    "    topic = json.load(file)"
   ]
  },
  {
   "cell_type": "code",
   "execution_count": 6,
   "metadata": {},
   "outputs": [],
   "source": [
    "# path = './retrieve/gpt-3.5/train/1/'\n",
    "# for t in topic.keys():\n",
    "#     sub = path + t\n",
    "#     sub = Path(sub)\n",
    "#     sub.mkdir()\n",
    "#     sub = Path(path + t + '/true')\n",
    "#     sub.mkdir()\n",
    "#     sub = Path(path + t + '/false')\n",
    "#     sub.mkdir()\n",
    "#     sub = Path(path + t + '/mostly_true')\n",
    "#     sub.mkdir()\n",
    "#     sub = Path(path + t + '/mostly_false')\n",
    "#     sub.mkdir()\n",
    "#     sub = Path(path + t + '/half_true')\n",
    "#     sub.mkdir()\n",
    "#     sub = Path(path + t + '/on_fire')\n",
    "#     sub.mkdir()"
   ]
  },
  {
   "cell_type": "code",
   "execution_count": 7,
   "metadata": {},
   "outputs": [],
   "source": [
    "label = ['true', 'false', 'mostly_true', 'mostly_false', 'half_true', 'on_fire']"
   ]
  },
  {
   "cell_type": "code",
   "execution_count": 8,
   "metadata": {},
   "outputs": [
    {
     "name": "stderr",
     "output_type": "stream",
     "text": [
      "/home/stu_109550068/.conda/envs/wy/lib/python3.11/site-packages/tqdm/auto.py:21: TqdmWarning: IProgress not found. Please update jupyter and ipywidgets. See https://ipywidgets.readthedocs.io/en/stable/user_install.html\n",
      "  from .autonotebook import tqdm as notebook_tqdm\n",
      "Loading checkpoint shards: 100%|██████████| 2/2 [00:05<00:00,  2.78s/it]\n"
     ]
    }
   ],
   "source": [
    "import torch\n",
    "from transformers import AutoTokenizer, AutoModelForCausalLM\n",
    "\n",
    "from fastchat.model import load_model, get_conversation_template, add_model_args\n",
    "\n",
    "model_path='lmsys/vicuna-7b-v1.5'\n",
    "revision='main'\n",
    "device='cuda'\n",
    "gpus=None\n",
    "num_gpus=1\n",
    "max_gpu_memory=None\n",
    "load_8bit=False\n",
    "cpu_offloading=False\n",
    "gptq_ckpt=None\n",
    "gptq_wbits=16\n",
    "gptq_groupsize=-1\n",
    "gptq_act_order=False\n",
    "awq_ckpt=None\n",
    "awq_wbits=16\n",
    "awq_groupsize=-1\n",
    "temperature=0.7\n",
    "repetition_penalty=1.0\n",
    "max_new_tokens=512\n",
    "debug=False\n",
    "\n",
    "model, tokenizer = load_model(\n",
    "    model_path,\n",
    "    device=device,\n",
    "    num_gpus=num_gpus,\n",
    "    max_gpu_memory=max_gpu_memory,\n",
    "    load_8bit=load_8bit,\n",
    "    cpu_offloading=cpu_offloading,\n",
    "    revision=revision,\n",
    "    debug=debug,\n",
    ")"
   ]
  },
  {
   "cell_type": "code",
   "execution_count": 9,
   "metadata": {},
   "outputs": [],
   "source": [
    "@torch.inference_mode()\n",
    "def main(msg):\n",
    "    \n",
    "    conv = get_conversation_template(model_path)\n",
    "    conv.append_message(conv.roles[0], msg)\n",
    "    conv.append_message(conv.roles[1], None)\n",
    "    prompt = conv.get_prompt()\n",
    "\n",
    "    inputs = tokenizer([prompt])\n",
    "    inputs = {k: torch.tensor(v).to(device) for k, v in inputs.items()}\n",
    "    output_ids = model.generate(\n",
    "        **inputs,\n",
    "        do_sample=True if temperature > 1e-5 else False,\n",
    "        temperature=temperature,\n",
    "        repetition_penalty=repetition_penalty,\n",
    "        max_new_tokens=max_new_tokens,\n",
    "    )\n",
    "\n",
    "    if model.config.is_encoder_decoder:\n",
    "        output_ids = output_ids[0]\n",
    "    else:\n",
    "        output_ids = output_ids[0][len(inputs[\"input_ids\"][0]) :]\n",
    "    outputs = tokenizer.decode(\n",
    "        output_ids, skip_special_tokens=True, spaces_between_special_tokens=False\n",
    "    )\n",
    "\n",
    "    # print(f\"{conv.roles[0]}: {msg}\")\n",
    "    # print(f\"{conv.roles[1]}: {outputs}\")\n",
    "    return outputs"
   ]
  },
  {
   "cell_type": "code",
   "execution_count": null,
   "metadata": {},
   "outputs": [],
   "source": [
    "for t in ['Health Care']:\n",
    "    # educate, economic...\n",
    "    for l in ['false']:\n",
    "        path = Path(f'../dataset/test/{t}/{l}/')\n",
    "        num = len(list(path.glob('*')))\n",
    "        for i in range(num):\n",
    "            idx = i + 1\n",
    "            with open(f'../dataset/test/{t}/{l}/{idx}/info.json', 'r') as file:\n",
    "                info = json.load(file)\n",
    "            claim = info['claim']\n",
    "            claimant = info['claimant']\n",
    "            date = info['claim_date']\n",
    "            \n",
    "            # path = Path(f'../dataset/test/{t}/{l}/{idx}/premise/')\n",
    "            # sub = path.glob('*')\n",
    "            # output = []\n",
    "            # for article in sub:\n",
    "            #     with open(article, 'r') as file:\n",
    "            #         data = json.load(file)\n",
    "            #         with torch.cuda.device('cuda'):\n",
    "            #             output.append(main(f\"\"\"Output a no more than 50-words argument toward the claim by reading the reference information.\\nClaim: {claim}\\nClaimant: {claimant}\\nClaim date: {date}\\nReference: {data if len(str(data))<3000 else str(data)[:3000]}\\nNote: If the provided reference is not related to the claim, directly output not related.\"\"\"))\n",
    "            # with open(f'./no_retrieve/vicuna/test/{t}/{l}/{idx}.json', 'w') as file:\n",
    "            #     json.dump(output, file) \n",
    "            \n",
    "            for group in range(1):\n",
    "                path = Path(f'../retrieval/{group+1}/test/{t}/{l}/{idx}/')\n",
    "                sub = path.glob('*')\n",
    "                output = []\n",
    "                for article in sub:\n",
    "                    with open(article, 'r') as file:\n",
    "                        data = json.load(file)\n",
    "                        with torch.cuda.device('cuda'):\n",
    "                            response = main(f\"\"\"Output a no more than 50-words argument evaluating the authenticity of a claim by reading a reference.\\nClaim: {claim}\\nReference: {data if len(str(data))<3000 else str(data)[:3000]}\\nNote: If the provided reference is not related to the claim, directly output not related.\"\"\")\n",
    "                            if \"Not related\" in response or \"not related\" in response:\n",
    "                                output.append(response)\n",
    "                                continue\n",
    "                            refinement = main(f\"\"\"Evaluate whether the argument is aligned with the information and evidence in the reference, don't consider the claim, output aligned/not aligned, and provide the reasons.\\nArgument: {response}\\nReference: {data if len(str(data))<3000 else str(data)[:3000]}\"\"\")\n",
    "                            print(response)\n",
    "                            print(refinement)\n",
    "                            while \"not aligned\" in refinement or \"Not aligned\" in refinement:\n",
    "                                response = main(f\"\"\"Previous argument fails to align with the reference, check the feedback and output a no more than 50-words argument evaluating the authenticity of a claim again.\\nFeedback: {refinement}\\nClaim: {claim}\\nReference: {data if len(str(data))<3000 else str(data)[:3000]}\\nNote: If the provided reference is not related to the claim, directly output not related.\"\"\")\n",
    "                                if \"Not related\" in response or \"not related\" in response:\n",
    "                                    output.append(response)\n",
    "                                    continue\n",
    "                                refinement = main(f\"\"\"Evaluate whether the argument is aligned with the information and evidence in the reference, don't consider the claim, output aligned/not aligned, and provide the reasons.\\nArgument: {response}\\nReference: {data if len(str(data))<3000 else str(data)[:3000]}\"\"\")\n",
    "                                print(response)\n",
    "                                print(refinement)\n",
    "                            if \"aligned\" in refinement or \"Aligned\" in refinement:\n",
    "                                output.append(response)\n",
    "                            else:\n",
    "                                print(f\"ERROR: {refinement}\")"
   ]
  },
  {
   "cell_type": "code",
   "execution_count": 8,
   "metadata": {},
   "outputs": [],
   "source": [
    "for t in topic.keys():\n",
    "    # educate, economic...\n",
    "    for l in label:\n",
    "        path = Path(f'../dataset/test/{t}/{l}/')\n",
    "        num = len(list(path.glob('*')))\n",
    "        for i in range(num):\n",
    "            idx = i + 1\n",
    "            with open(f'../dataset/test/{t}/{l}/{idx}/info.json', 'r') as file:\n",
    "                info = json.load(file)\n",
    "            claim = info['claim']\n",
    "            claimant = info['claimant']\n",
    "            date = info['claim_date']\n",
    "            \n",
    "            # path = Path(f'../dataset/test/{t}/{l}/{idx}/premise/')\n",
    "            # sub = path.glob('*')\n",
    "            # output = []\n",
    "            # for article in sub:\n",
    "            #     with open(article, 'r') as file:\n",
    "            #         data = json.load(file)\n",
    "            #         with torch.cuda.device('cuda'):\n",
    "            #             output.append(main(f\"\"\"Output a no more than 50-words argument toward the claim by reading the reference information.\\nClaim: {claim}\\nClaimant: {claimant}\\nClaim date: {date}\\nReference: {data if len(str(data))<3000 else str(data)[:3000]}\\nNote: If the provided reference is not related to the claim, directly output not related.\"\"\"))\n",
    "            # with open(f'./no_retrieve/vicuna/test/{t}/{l}/{idx}.json', 'w') as file:\n",
    "            #     json.dump(output, file) \n",
    "            \n",
    "            for group in range(5):\n",
    "                path = Path(f'../retrieval/{group+1}/test/{t}/{l}/{idx}/')\n",
    "                sub = path.glob('*')\n",
    "                output = []\n",
    "                for article in sub:\n",
    "                    with open(article, 'r') as file:\n",
    "                        data = json.load(file)\n",
    "                        with torch.cuda.device('cuda'):\n",
    "                            output.append(main(f\"\"\"Output a no more than 50-words argument evaluating the authenticity of a claim by reading a reference.\\nClaim: {claim}\\nReference: {data if len(str(data))<3000 else str(data)[:3000]}\\nNote: If the provided reference is not related to the claim, directly output not related.\"\"\"))\n",
    "                with open(f'./retrieve/vicuna/test/{group+1}/{t}/{l}/{idx}.json', 'w') as file:\n",
    "                    json.dump(output, file) "
   ]
  },
  {
   "cell_type": "code",
   "execution_count": 9,
   "metadata": {},
   "outputs": [],
   "source": [
    "# Set your API key\n",
    "key = \"{use your key here}\""
   ]
  },
  {
   "cell_type": "code",
   "execution_count": 2,
   "metadata": {},
   "outputs": [],
   "source": [
    "data = [\n",
    "    \"Rigorous nonprofit news for Vermont.\",\n",
    "    \"* Teachers, high-risk Vermonters eligible for vaccine\",\n",
    "    \"* 'Virus in Vermont' series\",\n",
    "    \"Governor Scott: Mr. President, Madam Speaker, Mr. Chief Justice, members\",\n",
    "    \"of the General Assembly, distinguished guests and fellow Vermonters:\",\n",
    "    \"dollar we spend comes directly from hardworking Vermonters, many\",\n",
    "    \"growing our economy, making Vermont more affordable and protecting the\",\n",
    "    \"To put this in perspective, every county except Chittenden has seen a\",\n",
    "    \"decline in the number of people working. Every county, including\",\n",
    "    \"Chittenden, has fewer people available for work.\",\n",
    "    \"and expand, harder for communities to grow and leaves fewer of us to cover\",\n",
    "    \"As our working-age population continues to decline, we simply need more\",\n",
    "    \"provide training for Vermonters so they can get a good job and attract new\",\n",
    "    \"Put simply, the day-to-day operational costs of state government and\",\n",
    "    \"our communities and supports economic growth in all corners of the state.\",\n",
    "    \"homes\\u2014we must also protect Vermonters online.\",\n",
    "    \"Combined with our quality of life, good jobs and working to make Vermont\",\n",
    "    \"place we are isn\\u2019t enough anymore. If it was, we\\u2019d be seeing our labor\",\n",
    "    \"working families.\",\n",
    "    \"$3.2 million more to Vermont State Colleges.\",\n",
    "    \"With this funding, the State Colleges will stop a planned three percent\",\n",
    "    \"tuition increase on Vermonters for this coming school year.\",\n",
    "    \"delivered in at least three tech centers throughout the state, where\",\n",
    "    \"growth by exempting them from Act 250.\",\n",
    "    \"areas and give our rural economy a fighting chance.\",\n",
    "    \"trail networks. Let\\u2019s simplify construction approval in rural industrial\",\n",
    "    \"parks and reduce their fees. Let\\u2019s help farms create new revenue from\",\n",
    "    \"transportation dollars by exempting projects that have environmental\",\n",
    "    \"Currently, 75 percent of the state has high-speed broadband or better.\",\n",
    "    \"Many communities are trying to expand infrastructure; while there are\",\n",
    "    \"To help, and to support our focus on the rural economy, I\\u2019m proposing to\",\n",
    "    \"approximately $830 million was spent on gasoline sales in Vermont. If this\",\n",
    "    \"significantly less, saving drivers more than $500 million.\",\n",
    "    \"We need 10 percent\\u2014about 50,000\\u2014of the cars and trucks on our roads to be\",\n",
    "    \"Today, we only have about 1,000 EVs on the road\\u2014less than one percent of\",\n",
    "    \"We all know transportation costs are high for rural Vermonters\\u2014that\\u2019s one\",\n",
    "    \"But in its final report, the Vermont Climate Action Commission recommends\",\n",
    "    \"just about making our state cleaner and healthier\\u2014it\\u2019s also about growing\",\n",
    "    \"been about $19.5 million, and the lowest year was 2015 at $9.9 million.\",\n",
    "    \"line with other states, the estate tax is a factor in retirees leaving.\",\n",
    "    \"Maine and New York, and more closely with the federal exemption.\",\n",
    "    \"Here\\u2019s why this is important: currently, we\\u2019re one of only 12 states that\",\n",
    "    \"Vermonters impacted by this tax are well-advised from tax professionals,\",\n",
    "    \"taxpayers here and support a legacy of clean, healthy lakes, rivers and\",\n",
    "    \"Last year, we worked together to make sure that low- and middle-income\",\n",
    "    \"Vermonters weren\\u2019t taxed on their social security, helping retirees live a\",\n",
    "    \"Only seven states, including us, fully tax military retirement benefits.\",\n",
    "    \"Before we leave this spring, let\\u2019s reduce that to six, and eliminate it\",\n",
    "    \"Across the state, there are abandoned, vacant and blighted properties\",\n",
    "    \"neighborhoods, create more capacity, and increase grand lists as low-value\",\n",
    "    \"percent of our housing stock is at least 40 years old, and nearly half of\",\n",
    "    \"Finally, so many of the neighborhoods affected by these issues are in and\",\n",
    "    \"We also know young families and workers want to be close to jobs, services\",\n",
    "    \"exist, in the places we want to see grow.\",\n",
    "    \"Attracting and retaining more workers is also a key goal of the paid\",\n",
    "    \"plans for all employers and employees in both states.\",\n",
    "    \"That\\u2019s why our proposal places all eligible state employees from both\",\n",
    "    \"government and balances the value of paid family leave with our ability to\",\n",
    "    \"Let\\u2019s show Vermonters we can work together to reach a goal we agree on,\",\n",
    "    \"In every corner of our state, there are communities, businesses and\",\n",
    "    \"because we need more working-age people.\",\n",
    "    \"system in the nation. We can change it by investing in housing, downtowns\",\n",
    "    \"and our environment to make Vermont an affordable and attractive place to\",\n",
    "    \"live. And we can change it by reaching potential Vermonters and showing\",\n",
    "    \"most likely to consider moving to Vermont, tell them our story and make it\",\n",
    "    \"interested in what Vermont has to offer.\",\n",
    "    \"It includes funding for relocation support to really sell Vermont by\",\n",
    "    \"community they\\u2019re drawn to, in the regions and job sectors that need them\",\n",
    "    \"Vermont businesses.\",\n",
    "    \"The fact is: every new worker we recruit to live here allows a business, a\",\n",
    "    \"Better roads and bridges? More taxpayers.\",\n",
    "    \"and allows us to continue funding programs and services that Vermonters\",\n",
    "    \"this institution. I believe in each of you and our ability to solve\",\n",
    "    \"good, the good that comes from the people of Vermont. And the good that\",\n",
    "    \"and division. We can recognize Vermonters call for balance, for civility\",\n",
    "    \"If we do, we will make a difference in the lives of Vermonters, and our\",\n",
    "    \"Tags: budget address, Phil Scott, Vermont legislature\",\n",
    "    \"After tense discussion, power outage stalls vote on contentious unemployment\\u2026\",\n",
    "    \"Burlington police transformation director under fire for plagiarism\",\n",
    "    \"* Burlington police transformation director under fire for plagiarism\",\n",
    "    \"* Burlington liquor store gutted by fire to return as Pearl Street Pipe\",\n",
    "    \"* Legislators reject tax hike on the wealthy to help solve pension\",\n",
    "    \"Purple Heart recipient, CIA staffer, sheep farmer and sugarmaker\",\n",
    "    \"After tense discussion, power outage stalls vote on contentious unemployment\",\n",
    "    \"Burlington police transformation director under fire for plagiarism\",\n",
    "    \"Carol Weston promoted to Efficiency Vermont Director\",\n",
    "    \"Alliance for a Better Vermont, elected officials and community leaders call on\",\n",
    "    \"Steve Crowley: Time for Vermonters to help create our climate future\",\n",
    "    \"After tense discussion, power outage stalls vote on contentious unemployment\",\n",
    "    \"(802) 225-6224\",\n",
    "    \"www.vtdigger.org\",\n",
    "    \"* [ ] Sunday Only (Weekly Wrap)\",\n",
    "    \"VTDigger regularly publishes stories about Vermont politics. We cover\",\n",
    "    \"state elections, the Vermont Legislature, the governor\\u2019s office, state\",\n",
    "    \"VTDigger covers criminal justice issues including Vermont legal\",\n",
    "    \"issues, Vermont courts and the Vermont Department of Corrections.\",\n",
    "    \"VTDigger publishes daily stories on health care. We cover the state\\u2019s\",\n",
    "    \"hospitals, the state\\u2019s psychiatric care system, the Green Mountain\",\n",
    "    \"Erin Mansfield is VTDigger\\u2019s health care reporter. She can be reached\",\n",
    "    \"VTDigger publishes stories about Vermont environmental issues,\",\n",
    "    \"VTDigger publishes a wide range of stories about Vermont\\u2019s educational\",\n",
    "    \"Commentary policy VTDigger.org publishes 12 to 18 commentaries a week\"\n",
    "]"
   ]
  },
  {
   "cell_type": "code",
   "execution_count": 12,
   "metadata": {},
   "outputs": [],
   "source": [
    "input = \"\"\n",
    "for d in data:\n",
    "    input += d"
   ]
  },
  {
   "cell_type": "code",
   "execution_count": 3,
   "metadata": {},
   "outputs": [],
   "source": [
    "claim = \"\\\"Every county, including Chittenden, has fewer people available for work.\\\"\""
   ]
  },
  {
   "cell_type": "code",
   "execution_count": 15,
   "metadata": {},
   "outputs": [],
   "source": [
    "prompt = f\"\"\"Carefully evaluate the authenticity of a claim and generate a no more than 50-words argument by reading a reference. Note: If the provided reference is not related to the claim, directly output not related.\\nClaim: {claim}\\nReference: {data if len(input)<3000 else input[:3000]}\"\"\""
   ]
  },
  {
   "cell_type": "code",
   "execution_count": 16,
   "metadata": {},
   "outputs": [
    {
     "data": {
      "text/plain": [
       "'Carefully evaluate the authenticity of a claim and generate a no more than 50-words argument by reading a reference. Note: If the provided reference is not related to the claim, directly output not related.\\nClaim: \"Every county, including Chittenden, has fewer people available for work.\"\\nReference: Rigorous nonprofit news for Vermont.* Teachers, high-risk Vermonters eligible for vaccine* \\'Virus in Vermont\\' seriesGovernor Scott: Mr. President, Madam Speaker, Mr. Chief Justice, membersof the General Assembly, distinguished guests and fellow Vermonters:dollar we spend comes directly from hardworking Vermonters, manygrowing our economy, making Vermont more affordable and protecting theTo put this in perspective, every county except Chittenden has seen adecline in the number of people working. Every county, includingChittenden, has fewer people available for work.and expand, harder for communities to grow and leaves fewer of us to coverAs our working-age population continues to decline, we simply need moreprovide training for Vermonters so they can get a good job and attract newPut simply, the day-to-day operational costs of state government andour communities and supports economic growth in all corners of the state.homes—we must also protect Vermonters online.Combined with our quality of life, good jobs and working to make Vermontplace we are isn’t enough anymore. If it was, we’d be seeing our laborworking families.$3.2 million more to Vermont State Colleges.With this funding, the State Colleges will stop a planned three percenttuition increase on Vermonters for this coming school year.delivered in at least three tech centers throughout the state, wheregrowth by exempting them from Act 250.areas and give our rural economy a fighting chance.trail networks. Let’s simplify construction approval in rural industrialparks and reduce their fees. Let’s help farms create new revenue fromtransportation dollars by exempting projects that have environmentalCurrently, 75 percent of the state has high-speed broadband or better.Many communities are trying to expand infrastructure; while there areTo help, and to support our focus on the rural economy, I’m proposing toapproximately $830 million was spent on gasoline sales in Vermont. If thissignificantly less, saving drivers more than $500 million.We need 10 percent—about 50,000—of the cars and trucks on our roads to beToday, we only have about 1,000 EVs on the road—less than one percent ofWe all know transportation costs are high for rural Vermonters—that’s oneBut in its final report, the Vermont Climate Action Commission recommendsjust about making our state cleaner and healthier—it’s also about growingbeen about $19.5 million, and the lowest year was 2015 at $9.9 million.line with other states, the estate tax is a factor in retirees leaving.Maine and New York, and more closely with the federal exemption.Here’s why this is important: currently, we’re one of only 12 states thatVermonters impacted by this tax are well-advised from tax professionals,taxpayers here and support a legacy of clean, healthy lakes, rivers andLast year, we worked together to make sure that low- and middle-incomeVermonters weren’t taxed on their social security, helping retirees live aOnly seven states, including us, fully tax military '"
      ]
     },
     "execution_count": 16,
     "metadata": {},
     "output_type": "execute_result"
    }
   ],
   "source": [
    "prompt"
   ]
  },
  {
   "cell_type": "code",
   "execution_count": 10,
   "metadata": {},
   "outputs": [
    {
     "data": {
      "text/plain": [
       "'Not related.'"
      ]
     },
     "execution_count": 10,
     "metadata": {},
     "output_type": "execute_result"
    }
   ],
   "source": [
    "import requests\n",
    "import json\n",
    "\n",
    "payload={\n",
    "        \"model\": \"gpt-3.5-turbo\",\n",
    "        \"messages\": [{\"role\": \"user\", \"content\": prompt}],\n",
    "        \"temperature\": 0.5,\n",
    "    }\n",
    "headers={\n",
    "        \"Authorization\": f\"Bearer {key}\",\n",
    "        \"Content-Type\":\"application/json\"\n",
    "    }\n",
    "url = \"https://api.openai.com/v1/chat/completions\"\n",
    "res = requests.post(url=url, data=json.dumps(payload), headers=headers)\n",
    "res = json.loads(res.text)\n",
    "res['choices'][0]['message']['content']"
   ]
  }
 ],
 "metadata": {
  "kernelspec": {
   "display_name": "wy",
   "language": "python",
   "name": "python3"
  },
  "language_info": {
   "codemirror_mode": {
    "name": "ipython",
    "version": 3
   },
   "file_extension": ".py",
   "mimetype": "text/x-python",
   "name": "python",
   "nbconvert_exporter": "python",
   "pygments_lexer": "ipython3",
   "version": "3.11.4"
  },
  "orig_nbformat": 4
 },
 "nbformat": 4,
 "nbformat_minor": 2
}
