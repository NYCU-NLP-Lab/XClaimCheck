{
 "cells": [
  {
   "cell_type": "code",
   "execution_count": 1,
   "metadata": {},
   "outputs": [
    {
     "name": "stderr",
     "output_type": "stream",
     "text": [
      "/home/stu_109550068/.conda/envs/wy/lib/python3.11/site-packages/tqdm/auto.py:21: TqdmWarning: IProgress not found. Please update jupyter and ipywidgets. See https://ipywidgets.readthedocs.io/en/stable/user_install.html\n",
      "  from .autonotebook import tqdm as notebook_tqdm\n"
     ]
    }
   ],
   "source": [
    "from datasets import Dataset\n",
    "import json\n",
    "from pathlib import Path\n",
    "import random"
   ]
  },
  {
   "cell_type": "code",
   "execution_count": 2,
   "metadata": {},
   "outputs": [],
   "source": [
    "group = 2"
   ]
  },
  {
   "cell_type": "code",
   "execution_count": 3,
   "metadata": {},
   "outputs": [],
   "source": [
    "with open('../retriever/dataset/split.json', 'r') as file:\n",
    "    split = json.load(file)"
   ]
  },
  {
   "cell_type": "code",
   "execution_count": 4,
   "metadata": {},
   "outputs": [],
   "source": [
    "ref = {'false': 0, 'on_fire': 0, 'mostly_false': 1, 'half_true': 2, 'mostly_true': 3, 'true': 4}"
   ]
  },
  {
   "cell_type": "code",
   "execution_count": 5,
   "metadata": {},
   "outputs": [
    {
     "name": "stdout",
     "output_type": "stream",
     "text": [
      "5912\n"
     ]
    }
   ],
   "source": [
    "train_data = []\n",
    "for part in ['train']:\n",
    "    for topic in split[group-1]:\n",
    "        for label in ref.keys():\n",
    "            path = Path(f'../retrieval/{group}/{part}/{topic}/{label}')\n",
    "            sub = path.glob('*')\n",
    "            num = len(list(sub))\n",
    "            for i in range(num):\n",
    "                idx = i+1\n",
    "                path = Path(f'../retrieval/{group}/{part}/{topic}/{label}/{idx}')\n",
    "                sub = path.glob('*')\n",
    "                with open(f'../dataset/{part}/{topic}/{label}/{idx}/info.json', 'r') as file:\n",
    "                    info = json.load(file)\n",
    "                claim = info['claim']\n",
    "                for s in sub:\n",
    "                    if random.randint(1, 2) != 1:\n",
    "                        continue\n",
    "                    with open(s, 'r') as file:\n",
    "                        evidence = json.load(file)\n",
    "                    text = \"\"\n",
    "                    for e in evidence:\n",
    "                        text += str(e) + ' '\n",
    "                    datapoint = {'text': f'Claim: {claim}\\nReference: {text}', 'label': ref[label]}\n",
    "                    train_data.append(datapoint)\n",
    "                    if datapoint['label'] == 4:\n",
    "                        train_data.append(datapoint)\n",
    "print(len(train_data))\n",
    "train_dataset = Dataset.from_list(train_data)\n",
    "train_dataset.shuffle(seed=42)\n",
    "\n",
    "eval_data = []\n",
    "for topic in split[group-1]:\n",
    "    for label in ref.keys():\n",
    "        path = Path(f'../retrieval/{group}/test/{topic}/{label}')\n",
    "        sub = path.glob('*')\n",
    "        num = len(list(sub))\n",
    "        for i in range(num):\n",
    "            idx = i+1\n",
    "            path = Path(f'../retrieval/{group}/test/{topic}/{label}/{idx}')\n",
    "            sub = path.glob('*')\n",
    "            with open(f'../dataset/test/{topic}/{label}/{idx}/info.json', 'r') as file:\n",
    "                info = json.load(file)\n",
    "            claim = info['claim']\n",
    "            for s in sub:\n",
    "                with open(s, 'r') as file:\n",
    "                    evidence = json.load(file)\n",
    "                text = \"\"\n",
    "                for e in evidence:\n",
    "                    text += str(e) + ' '\n",
    "                datapoint = {'text': f'Claim: {claim}\\nReference: {text}', 'label': ref[label]}\n",
    "                eval_data.append(datapoint)\n",
    "                if datapoint['label'] == 4:\n",
    "                    eval_data.append(datapoint)\n",
    "\n",
    "eval_dataset = Dataset.from_list(eval_data)"
   ]
  },
  {
   "cell_type": "code",
   "execution_count": 6,
   "metadata": {},
   "outputs": [],
   "source": [
    "from transformers import AutoTokenizer\n",
    "\n",
    "tokenizer = AutoTokenizer.from_pretrained(\"xlm-roberta-base\")"
   ]
  },
  {
   "cell_type": "code",
   "execution_count": 7,
   "metadata": {},
   "outputs": [
    {
     "name": "stderr",
     "output_type": "stream",
     "text": [
      "Map: 100%|██████████| 5912/5912 [00:01<00:00, 5153.15 examples/s]\n",
      "Map: 100%|██████████| 3950/3950 [00:00<00:00, 8173.76 examples/s]\n"
     ]
    }
   ],
   "source": [
    "def preprocess_function(examples):\n",
    "    return tokenizer(examples[\"text\"], truncation=True)\n",
    "\n",
    "tokenized_train = train_dataset.map(preprocess_function, batched=True)\n",
    "tokenized_eval = eval_dataset.map(preprocess_function, batched=True)"
   ]
  },
  {
   "cell_type": "code",
   "execution_count": 8,
   "metadata": {},
   "outputs": [],
   "source": [
    "from transformers import DataCollatorWithPadding\n",
    "\n",
    "data_collator = DataCollatorWithPadding(tokenizer=tokenizer)\n",
    "\n",
    "import evaluate\n",
    "\n",
    "accuracy = evaluate.load(\"accuracy\")\n",
    "\n",
    "import numpy as np\n",
    "from sklearn.metrics import f1_score\n",
    "\n",
    "def compute_metrics(eval_pred):\n",
    "    predictions, labels = eval_pred\n",
    "    predictions = np.argmax(predictions, axis=1)\n",
    "    macro_f1 = f1_score(y_true=labels, y_pred=predictions, average='macro')\n",
    "\n",
    "    metrics = accuracy.compute(predictions=predictions, references=labels)\n",
    "    metrics[\"macro_f1\"] = macro_f1\n",
    "\n",
    "    return metrics"
   ]
  },
  {
   "cell_type": "code",
   "execution_count": 9,
   "metadata": {},
   "outputs": [],
   "source": [
    "id2label = {0: 'false', 1: 'mostly_false', 2: 'half_true', 3: 'mostly_true', 4: 'true'}\n",
    "label2id = {'false': 0, 'mostly_false': 1, 'half_true': 2, 'mostly_true': 3, 'true': 4}"
   ]
  },
  {
   "cell_type": "code",
   "execution_count": 10,
   "metadata": {},
   "outputs": [
    {
     "name": "stderr",
     "output_type": "stream",
     "text": [
      "Some weights of XLMRobertaForSequenceClassification were not initialized from the model checkpoint at xlm-roberta-base and are newly initialized: ['classifier.dense.weight', 'classifier.dense.bias', 'classifier.out_proj.bias', 'classifier.out_proj.weight']\n",
      "You should probably TRAIN this model on a down-stream task to be able to use it for predictions and inference.\n"
     ]
    }
   ],
   "source": [
    "from transformers import AutoModelForSequenceClassification, TrainingArguments, Trainer\n",
    "\n",
    "model = AutoModelForSequenceClassification.from_pretrained(\n",
    "    \"xlm-roberta-base\", num_labels=5, id2label=id2label, label2id=label2id\n",
    ")"
   ]
  },
  {
   "cell_type": "code",
   "execution_count": 11,
   "metadata": {},
   "outputs": [
    {
     "name": "stderr",
     "output_type": "stream",
     "text": [
      "/home/stu_109550068/.conda/envs/wy/lib/python3.11/site-packages/transformers/optimization.py:411: FutureWarning: This implementation of AdamW is deprecated and will be removed in a future version. Use the PyTorch implementation torch.optim.AdamW instead, or set `no_deprecation_warning=True` to disable this warning\n",
      "  warnings.warn(\n",
      "You're using a XLMRobertaTokenizerFast tokenizer. Please note that with a fast tokenizer, using the `__call__` method is faster than using a method to encode the text followed by a call to the `pad` method to get a padded encoding.\n"
     ]
    },
    {
     "data": {
      "text/html": [
       "\n",
       "    <div>\n",
       "      \n",
       "      <progress value='741' max='741' style='width:300px; height:20px; vertical-align: middle;'></progress>\n",
       "      [741/741 07:58, Epoch 3/3]\n",
       "    </div>\n",
       "    <table border=\"1\" class=\"dataframe\">\n",
       "  <thead>\n",
       " <tr style=\"text-align: left;\">\n",
       "      <th>Epoch</th>\n",
       "      <th>Training Loss</th>\n",
       "      <th>Validation Loss</th>\n",
       "      <th>Accuracy</th>\n",
       "      <th>Macro F1</th>\n",
       "    </tr>\n",
       "  </thead>\n",
       "  <tbody>\n",
       "    <tr>\n",
       "      <td>1</td>\n",
       "      <td>No log</td>\n",
       "      <td>1.503745</td>\n",
       "      <td>0.353924</td>\n",
       "      <td>0.154914</td>\n",
       "    </tr>\n",
       "    <tr>\n",
       "      <td>2</td>\n",
       "      <td>No log</td>\n",
       "      <td>1.469843</td>\n",
       "      <td>0.373165</td>\n",
       "      <td>0.267005</td>\n",
       "    </tr>\n",
       "    <tr>\n",
       "      <td>3</td>\n",
       "      <td>1.516200</td>\n",
       "      <td>1.488583</td>\n",
       "      <td>0.371899</td>\n",
       "      <td>0.281827</td>\n",
       "    </tr>\n",
       "  </tbody>\n",
       "</table><p>"
      ],
      "text/plain": [
       "<IPython.core.display.HTML object>"
      ]
     },
     "metadata": {},
     "output_type": "display_data"
    },
    {
     "data": {
      "text/plain": [
       "TrainOutput(global_step=741, training_loss=1.455687611691865, metrics={'train_runtime': 479.0578, 'train_samples_per_second': 37.023, 'train_steps_per_second': 1.547, 'total_flos': 4666663374741504.0, 'train_loss': 1.455687611691865, 'epoch': 3.0})"
      ]
     },
     "execution_count": 11,
     "metadata": {},
     "output_type": "execute_result"
    }
   ],
   "source": [
    "training_args = TrainingArguments(\n",
    "    output_dir=f\"./model/{group}\",\n",
    "    learning_rate=1e-5,\n",
    "    per_device_train_batch_size=24,\n",
    "    per_device_eval_batch_size=24,\n",
    "    num_train_epochs=3,\n",
    "    weight_decay=0.01,\n",
    "    evaluation_strategy=\"epoch\",\n",
    "    save_strategy=\"epoch\",\n",
    "    load_best_model_at_end=True,\n",
    "    push_to_hub=False,\n",
    ")\n",
    "\n",
    "trainer = Trainer(\n",
    "    model=model,\n",
    "    args=training_args,\n",
    "    train_dataset=tokenized_train,\n",
    "    eval_dataset=tokenized_eval,\n",
    "    tokenizer=tokenizer,\n",
    "    data_collator=data_collator,\n",
    "    compute_metrics=compute_metrics,\n",
    ")\n",
    "\n",
    "trainer.train()"
   ]
  },
  {
   "cell_type": "code",
   "execution_count": 12,
   "metadata": {},
   "outputs": [],
   "source": [
    "# from transformers import pipeline\n",
    "# text = \"Claim: The Affordable Care Act is national law.\\nReference: The Affordable Care Act was signed by president Obama in 2010.\"\n",
    "# classifier = pipeline(\"sentiment-analysis\", model=\"./model/1/checkpoint-806/\")\n",
    "# classifier(text)"
   ]
  }
 ],
 "metadata": {
  "kernelspec": {
   "display_name": "wy",
   "language": "python",
   "name": "python3"
  },
  "language_info": {
   "codemirror_mode": {
    "name": "ipython",
    "version": 3
   },
   "file_extension": ".py",
   "mimetype": "text/x-python",
   "name": "python",
   "nbconvert_exporter": "python",
   "pygments_lexer": "ipython3",
   "version": "3.11.4"
  },
  "orig_nbformat": 4
 },
 "nbformat": 4,
 "nbformat_minor": 2
}
