{
 "cells": [
  {
   "cell_type": "code",
   "execution_count": 9,
   "metadata": {},
   "outputs": [],
   "source": [
    "import json\n",
    "\n",
    "with open('./dataset/split.json', 'r') as file:\n",
    "    split = json.load(file)"
   ]
  },
  {
   "cell_type": "code",
   "execution_count": 10,
   "metadata": {},
   "outputs": [],
   "source": [
    "from pathlib import Path\n",
    "import random"
   ]
  },
  {
   "cell_type": "code",
   "execution_count": 13,
   "metadata": {},
   "outputs": [],
   "source": [
    "channel = 'valid'"
   ]
  },
  {
   "cell_type": "code",
   "execution_count": 14,
   "metadata": {},
   "outputs": [],
   "source": [
    "for i, group in enumerate(split):\n",
    "    output = []\n",
    "    for topic in group:\n",
    "        path = Path(f'../dataset/{channel}/{topic}/')\n",
    "        sub = list(path.glob('**/review.json'))\n",
    "        for pos in sub:\n",
    "            datapoint = {}\n",
    "            neg = random.choice(sub)\n",
    "            while neg == pos:\n",
    "                neg = random.choice(sub)\n",
    "            info = str(pos).replace('review', 'info')\n",
    "            with open(info, 'r') as file:\n",
    "                claim = json.load(file)\n",
    "            datapoint['question'] = claim['claim']\n",
    "            datapoint['answers'] = []\n",
    "            datapoint['negative_ctxs'] = []\n",
    "            datapoint['positive_ctxs'] = []\n",
    "            datapoint['hard_negative_ctxs'] = []\n",
    "            with open(str(pos), 'r') as file:\n",
    "                pos_review = json.load(file)\n",
    "            with open(str(neg), 'r') as file:\n",
    "                neg_review = json.load(file)\n",
    "            start = False\n",
    "            text = \"\"\n",
    "            for j, content in enumerate(pos_review):\n",
    "                if 'true' in content:\n",
    "                    start = True\n",
    "                if 'Our Sources' in content:\n",
    "                    break\n",
    "                if start:\n",
    "                    text += content\n",
    "            datapoint['positive_ctxs'].append({'title': '', 'text': text})\n",
    "\n",
    "            start = False\n",
    "            text = \"\"\n",
    "            for j, content in enumerate(neg_review):\n",
    "                if 'true' in content:\n",
    "                    start = True\n",
    "                if 'Our Sources' in content:\n",
    "                    break\n",
    "                if start:\n",
    "                    text += content\n",
    "            datapoint['hard_negative_ctxs'].append({'title': '', 'text': text})\n",
    "            output.append(datapoint)\n",
    "\n",
    "    with open(f'./dataset/{channel}/{i+1}.json', 'w') as file:\n",
    "        json.dump(output, file)"
   ]
  }
 ],
 "metadata": {
  "kernelspec": {
   "display_name": "wy",
   "language": "python",
   "name": "python3"
  },
  "language_info": {
   "codemirror_mode": {
    "name": "ipython",
    "version": 3
   },
   "file_extension": ".py",
   "mimetype": "text/x-python",
   "name": "python",
   "nbconvert_exporter": "python",
   "pygments_lexer": "ipython3",
   "version": "3.11.4"
  },
  "orig_nbformat": 4
 },
 "nbformat": 4,
 "nbformat_minor": 2
}
